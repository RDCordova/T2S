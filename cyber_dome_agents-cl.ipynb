{
 "cells": [
  {
   "cell_type": "code",
   "execution_count": 2,
   "id": "6b869b4d-736f-4104-a10f-2d705ba88dc4",
   "metadata": {
    "tags": []
   },
   "outputs": [],
   "source": [
    "# !pip install torch \n",
    "# !pip install psycopg2\n",
    "# !pip install rank_bm25\n",
    "# !pip install langchain \n",
    "# !pip install langchain_community\n",
    "# !pip install langchain_openai\n",
    "# !pip install sentencepiece\n",
    "# !pip install transformers \n",
    "# !pip install datasets\n",
    "# !pip install accelerate \n",
    "# %env SKLEARN_ALLOW_DEPRECATED_SKLEARN_PACKAGE_INSTALL True\n",
    "# !pip install -U sklearn\n",
    "# !pip install spacy\n",
    "# !python3 --version\n",
    "# !pip install -U transformers \n",
    "# !pip install PyPDF2\n",
    "# !pip install sentence_transformers\n",
    "# !pip install --upgrade boto3\n",
    "# !pip install faiss-cpu"
   ]
  },
  {
   "cell_type": "code",
   "execution_count": 3,
   "id": "8fe870b3-ebb5-4ef1-810f-64de6fae6718",
   "metadata": {
    "tags": []
   },
   "outputs": [],
   "source": [
    "# !pip install faiss-cpu"
   ]
  },
  {
   "cell_type": "code",
   "execution_count": 4,
   "id": "442129bc-b11a-4643-b95e-cb7f1abab339",
   "metadata": {
    "tags": []
   },
   "outputs": [
    {
     "name": "stderr",
     "output_type": "stream",
     "text": [
      "/opt/conda/lib/python3.10/site-packages/tqdm/auto.py:21: TqdmWarning: IProgress not found. Please update jupyter and ipywidgets. See https://ipywidgets.readthedocs.io/en/stable/user_install.html\n",
      "  from .autonotebook import tqdm as notebook_tqdm\n"
     ]
    }
   ],
   "source": [
    "import pandas as pd \n",
    "import numpy as np\n",
    "import torch\n",
    "import torch.nn as nn \n",
    "from sklearn.model_selection import train_test_split \n",
    "\n",
    "import json \n",
    "import copy \n",
    "import gc \n",
    "import os \n",
    "import re \n",
    "from collections import defaultdict\n",
    "from pathlib import Path \n",
    "\n",
    "from transformers import AutoTokenizer \n",
    "\n",
    "\n",
    "from spacy.lang.en import English \n",
    "from transformers.tokenization_utils import PreTrainedTokenizerBase \n",
    "from transformers.models.deberta_v2 import (\n",
    "    DebertaV2ForTokenClassification,\n",
    "    DebertaV2TokenizerFast,\n",
    ")\n",
    "from transformers.trainer import Trainer \n",
    "from transformers.training_args import TrainingArguments\n",
    "from transformers.trainer_utils import EvalPrediction \n",
    "from transformers.data.data_collator import DataCollatorForTokenClassification\n",
    "from datasets import (\n",
    "    Dataset, \n",
    "    DatasetDict, \n",
    "    concatenate_datasets,\n",
    "    features\n",
    ")\n",
    "from transformers import AutoConfig\n",
    "\n",
    "from transformers import TextClassificationPipeline\n",
    "\n",
    "import argparse \n",
    "from itertools import chain \n",
    "from functools import partial \n",
    "\n",
    "from transformers import AutoModelForSequenceClassification, DataCollatorWithPadding\n",
    "\n",
    "import random \n",
    "\n",
    "#SQL Agent imports \n",
    "#RAG\n",
    "from PyPDF2 import PdfReader\n",
    "from transformers import AutoTokenizer, AutoModel \n",
    "import torch \n",
    "import numpy as np\n",
    "from langchain.text_splitter import RecursiveCharacterTextSplitter\n",
    "from langchain.embeddings import HuggingFaceEmbeddings\n",
    "from langchain.vectorstores import FAISS\n",
    "import sentence_transformers\n",
    "from langchain_community.utilities import SQLDatabase\n",
    "from langchain_core.prompts import ChatPromptTemplate\n",
    "from langchain_core.output_parsers import StrOutputParser\n",
    "from langchain_core.runnables import RunnablePassthrough\n",
    "from langchain_openai import ChatOpenAI\n",
    "from langchain.chains.conversation.memory import ConversationBufferMemory\n",
    "\n",
    "import warnings \n",
    "warnings.filterwarnings('ignore')"
   ]
  },
  {
   "cell_type": "code",
   "execution_count": 5,
   "id": "f75273e8-3b38-4369-915d-af1e1a099d24",
   "metadata": {
    "tags": []
   },
   "outputs": [],
   "source": [
    "from langchain_core.messages import AIMessage, HumanMessage"
   ]
  },
  {
   "cell_type": "markdown",
   "id": "fa28c86a-238f-4ad9-94fd-fb964443aa34",
   "metadata": {},
   "source": [
    "# Initialize routing agent from saved model "
   ]
  },
  {
   "cell_type": "code",
   "execution_count": 6,
   "id": "f519b521-d461-49ba-8ee5-380bda3ada7a",
   "metadata": {
    "tags": []
   },
   "outputs": [
    {
     "name": "stderr",
     "output_type": "stream",
     "text": [
      "Hardware accelerator e.g. GPU is available in the environment, but no `device` argument is passed to the `Pipeline` object. Model will be on CPU.\n"
     ]
    }
   ],
   "source": [
    "#Please provide the pre-trained model path\n",
    "modelpath = '/root/checkpoint-894'\n",
    "model = AutoModelForSequenceClassification.from_pretrained(modelpath)\n",
    "tokenizer = AutoTokenizer.from_pretrained(modelpath)\n",
    "\n",
    "pipe = TextClassificationPipeline(model=model, tokenizer=tokenizer)"
   ]
  },
  {
   "cell_type": "code",
   "execution_count": 7,
   "id": "c1f191e6-2d3e-4998-ac1a-edf04e223b29",
   "metadata": {
    "tags": []
   },
   "outputs": [],
   "source": [
    "def routing_agent(user_question):\n",
    "    prediction = pipe(user_question)\n",
    "    print(prediction)\n",
    "    if prediction[0]['label'] == 'LABEL_1':\n",
    "        sql_result = sql_answer(user_question)\n",
    "        memory.save_context({\"input\":  sql_result[\"query\"]}, {\"output\": sql_result[\"result\"]})\n",
    "        return sql_result\n",
    "    if prediction[0]['label'] == 'LABEL_0':\n",
    "        tdr_result = \"This is a tdr question\"\n",
    "        answer = create_RetrievalQA_chain(user_question,model,thread_bm25_store,prompt,'bm25',30) \n",
    "        memory.save_context({\"input\":  answer[\"query\"]}, {\"output\": answer[\"result\"]})\n",
    "        return answer\n"
   ]
  },
  {
   "cell_type": "code",
   "execution_count": 27,
   "id": "06dd3c35-de49-4b60-a0fe-80577c215db2",
   "metadata": {
    "tags": []
   },
   "outputs": [],
   "source": [
    "#add memory \n",
    "memory = ConversationBufferMemory(return_messages=True)"
   ]
  },
  {
   "cell_type": "markdown",
   "id": "f876da91-69a8-4792-8cb3-c56e8bc66ace",
   "metadata": {
    "tags": []
   },
   "source": [
    "# Add SQL Agent  "
   ]
  },
  {
   "cell_type": "code",
   "execution_count": 9,
   "id": "df0d2622-9e1d-4918-ba35-ed0ac086d634",
   "metadata": {
    "tags": []
   },
   "outputs": [],
   "source": [
    "import boto3\n",
    "from langchain_community.chat_models import BedrockChat\n",
    "\n",
    "from boto3 import client\n",
    "from botocore.config import Config\n",
    "def load_model():\n",
    "    config = Config(read_timeout=1000)\n",
    "\n",
    "    bedrock_runtime = boto3.client(service_name='bedrock-runtime', \n",
    "                          region_name='us-east-1',\n",
    "                          config=config)\n",
    "\n",
    "    model_id = \"anthropic.claude-3-5-sonnet-20240620-v1:0\"\n",
    "    \n",
    "    model_kwargs = { \n",
    "        \"max_tokens\": 100000,\n",
    "        \"temperature\": 0,\n",
    "        \"top_k\": 250,\n",
    "        \"top_p\": 1,\n",
    "        \"stop_sequences\": [\"\\n\\nHuman\"],\n",
    "        \n",
    "    }\n",
    "    \n",
    " \n",
    "    \n",
    "    model = BedrockChat(\n",
    "        client=bedrock_runtime,\n",
    "        model_id=model_id,\n",
    "        model_kwargs=model_kwargs,\n",
    "    )\n",
    "\n",
    "    return model\n",
    "\n",
    "sql_llm = load_model()"
   ]
  },
  {
   "cell_type": "code",
   "execution_count": 10,
   "id": "8924318b-62e5-492f-938f-336c17b570f8",
   "metadata": {
    "tags": []
   },
   "outputs": [],
   "source": [
    "#functions \n",
    "def get_vector_store(filename):\n",
    "    filename = filename\n",
    "    pdf_reader = PdfReader(filename)\n",
    "    \n",
    "    text = \"\"\n",
    "    for page in pdf_reader.pages:\n",
    "        text += page.extract_text()\n",
    "        \n",
    "    pdf_docs = []\n",
    "    text_splitter = RecursiveCharacterTextSplitter(chunk_size = 5000, chunk_overlap = 200)\n",
    "\n",
    "    for idx, page in enumerate(pdf_reader.pages):\n",
    "        if len(text) > 0:\n",
    "            pdf_docs.extend(\n",
    "                text_splitter.create_documents(\n",
    "                    texts = [text],\n",
    "                    metadatas = [{'filename': filename, 'page': idx+1}]\n",
    "                )\n",
    "            )\n",
    "            \n",
    "    embedding = HuggingFaceEmbeddings(model_name = \"sentence-transformers/all-MiniLM-L6-v2\")\n",
    "    return FAISS.from_documents(pdf_docs, embedding)\n",
    "\n",
    "def get_schema(_):\n",
    "    schema = db.get_table_info()\n",
    "    return schema\n",
    "\n",
    "\n",
    "def run_query(query):\n",
    "    return db.run(query)\n",
    "\n",
    "def sql_answer(user_question):\n",
    "    # add Try to run SQL 5 times \n",
    "    error_counter = 0 \n",
    "    while error_counter < 5:\n",
    "        try:\n",
    "            question = user_question\n",
    "            ss_result = v_db.similarity_search(question)\n",
    "            top_ss_docs = ss_result[0:1]\n",
    "            context = \" ----- \".join([ss_result.page_content for ss_result in top_ss_docs])  \n",
    "            result = full_chain.invoke(({\"context\": context,\"history\":memory.load_memory_variables({}), \"question\": user_question})).content\n",
    "            return {\"query\" : user_question, 'result': result}\n",
    "        except:\n",
    "            error_counter += 1 \n",
    "    result = \"Unable to generate answer based on the question being asked. please try again with a different question.\"\n",
    "    return {\"query\" : user_question, 'result': result}\n",
    "    "
   ]
  },
  {
   "cell_type": "code",
   "execution_count": 11,
   "id": "21ec5059-c331-48cc-86d8-151bcb8951d7",
   "metadata": {},
   "outputs": [],
   "source": [
    "# RAG\n",
    "v_db = get_vector_store('data_dict.pdf')"
   ]
  },
  {
   "cell_type": "code",
   "execution_count": 12,
   "id": "0a507691-1761-46ca-a16f-0036fec94264",
   "metadata": {},
   "outputs": [],
   "source": [
    "# SQL Agent "
   ]
  },
  {
   "cell_type": "code",
   "execution_count": 13,
   "id": "88c2caf8-8f61-422a-8970-cf8dcaacbfbc",
   "metadata": {},
   "outputs": [],
   "source": [
    "# setup database and schema\n",
    "sqlite_uri = 'sqlite:///./snyth.db' \n",
    "db = SQLDatabase.from_uri(sqlite_uri)"
   ]
  },
  {
   "cell_type": "code",
   "execution_count": 14,
   "id": "7617debd-c95e-4876-81b7-d99aa809e23d",
   "metadata": {},
   "outputs": [],
   "source": [
    "#setup model \n",
    "key = ''\n",
    "sql_llm_gpt = ChatOpenAI(openai_api_key=key)"
   ]
  },
  {
   "cell_type": "code",
   "execution_count": 15,
   "id": "93ff3bf7-400e-4cce-b71c-3887abdfbc4e",
   "metadata": {},
   "outputs": [],
   "source": [
    "#sql chain \n",
    "template = \"\"\"Based on the table schema and context below, write a SQL query that would answer the user's question. Only return the sql code not any explanation.:\n",
    "{schema}\n",
    "{context}\n",
    "{history} \n",
    "Question: {question}\n",
    "SQL Query:\"\"\"\n",
    "prompt = ChatPromptTemplate.from_template(template)"
   ]
  },
  {
   "cell_type": "code",
   "execution_count": 16,
   "id": "ce7cd571-39af-44e9-ba08-580c20736536",
   "metadata": {},
   "outputs": [],
   "source": [
    "sql_chain = (\n",
    "    RunnablePassthrough.assign(schema=get_schema)\n",
    "    | prompt\n",
    "    | sql_llm.bind(stop=[\"\\nSQLResult:\"])\n",
    "    | StrOutputParser()\n",
    ")"
   ]
  },
  {
   "cell_type": "code",
   "execution_count": 17,
   "id": "6a3c4225-6fab-4206-8122-1e18c7838fd5",
   "metadata": {},
   "outputs": [],
   "source": [
    "#full chain \n",
    "template = \"\"\"Based on the table schema below, question, sql query, and sql response, and context write a natural language response. The answer should be concise one or two sentance and should include any nubers from the original query. If the answer involvs a list of output, reutrn the full list. You should not refernce the database or its tables:\n",
    "{schema}\n",
    "{context}\n",
    "{history}\n",
    "Question: {question}\n",
    "SQL Query: {query}\n",
    "SQL Response: {response}\"\"\"\n",
    "prompt_response = ChatPromptTemplate.from_template(template)"
   ]
  },
  {
   "cell_type": "code",
   "execution_count": 18,
   "id": "1bbc67d2-0622-4829-b390-026a082e3a8f",
   "metadata": {},
   "outputs": [],
   "source": [
    "full_chain = (\n",
    "    RunnablePassthrough.assign(query=sql_chain).assign(\n",
    "        schema=get_schema,\n",
    "        response=lambda vars: run_query(vars[\"query\"]),\n",
    "    )\n",
    "    | prompt_response\n",
    "    | sql_llm\n",
    ")"
   ]
  },
  {
   "cell_type": "code",
   "execution_count": 19,
   "id": "f6323727-739b-4b16-ab58-8d81f50f35e0",
   "metadata": {
    "tags": []
   },
   "outputs": [
    {
     "data": {
      "text/plain": [
       "{'query': 'what is the most likly vulnerablity source?',\n",
       " 'result': 'The most likely vulnerability source is Infra, with 1,526 occurrences in the database.'}"
      ]
     },
     "execution_count": 19,
     "metadata": {},
     "output_type": "execute_result"
    }
   ],
   "source": [
    "user_question = 'what is the most likly vulnerablity source?'\n",
    "# user_question = 'How many apples are in the dog table?'\n",
    "sql_answer(user_question)"
   ]
  },
  {
   "cell_type": "code",
   "execution_count": null,
   "id": "13edf003-faa3-482c-8730-e03bf167eaba",
   "metadata": {},
   "outputs": [],
   "source": []
  },
  {
   "cell_type": "markdown",
   "id": "f9e218e4-5ea1-4792-b8d7-f86f1c6ed494",
   "metadata": {
    "tags": []
   },
   "source": [
    "# Add TDR Agent  "
   ]
  },
  {
   "cell_type": "code",
   "execution_count": 22,
   "id": "1e474342-919d-45a5-b654-1508125ebe65",
   "metadata": {
    "tags": []
   },
   "outputs": [],
   "source": [
    "import boto3\n",
    "from langchain_community.chat_models import BedrockChat\n",
    "\n",
    "from boto3 import client\n",
    "from botocore.config import Config\n",
    "def load_model():\n",
    "    config = Config(read_timeout=1000)\n",
    "\n",
    "    bedrock_runtime = boto3.client(service_name='bedrock-runtime', \n",
    "                          region_name='us-east-1',\n",
    "                          config=config)\n",
    "\n",
    "    model_id = \"anthropic.claude-3-5-sonnet-20240620-v1:0\"\n",
    "    \n",
    "    model_kwargs = { \n",
    "        \"max_tokens\": 100000,\n",
    "        \"temperature\": 0,\n",
    "        \"top_k\": 250,\n",
    "        \"top_p\": 1,\n",
    "        \"stop_sequences\": [\"\\n\\nHuman\"],\n",
    "        \n",
    "    }\n",
    "    \n",
    " \n",
    "    \n",
    "    model = BedrockChat(\n",
    "        client=bedrock_runtime,\n",
    "        model_id=model_id,\n",
    "        model_kwargs=model_kwargs,\n",
    "    )\n",
    "\n",
    "    return model\n",
    "\n",
    "llm = load_model()\n"
   ]
  },
  {
   "cell_type": "code",
   "execution_count": 23,
   "id": "0e20666b-b7b0-4e7b-bc34-92a92c016773",
   "metadata": {
    "tags": []
   },
   "outputs": [],
   "source": [
    "import boto3\n",
    "from langchain_community.chat_models import BedrockChat\n",
    "\n",
    "from boto3 import client\n",
    "from botocore.config import Config"
   ]
  },
  {
   "cell_type": "code",
   "execution_count": 24,
   "id": "37b947cc-0f11-4b7e-a216-ba5e072bab23",
   "metadata": {
    "tags": []
   },
   "outputs": [],
   "source": [
    "from langchain import PromptTemplate\n",
    "\n",
    "\n",
    "def load_prompt():\n",
    "    with open(f'prompt_template/final_prompt.txt', 'r') as file:\n",
    "        data = file.read()\n",
    "    prompt_template = data\n",
    "    prompt = PromptTemplate(\n",
    "        template=prompt_template, input_variables=[\"context\",\"question\"]\n",
    "    )\n",
    "    return prompt\n",
    "prompt = load_prompt()"
   ]
  },
  {
   "cell_type": "code",
   "execution_count": 25,
   "id": "a56b26f4-5918-42cb-8406-9272af34caaf",
   "metadata": {
    "tags": []
   },
   "outputs": [],
   "source": [
    "def load_model():\n",
    "    config = Config(read_timeout=1000)\n",
    "\n",
    "    bedrock_runtime = boto3.client(service_name='bedrock-runtime', \n",
    "                          region_name='us-east-1',\n",
    "                          config=config)\n",
    "    model_id = \"anthropic.claude-3-5-sonnet-20240620-v1:0\"\n",
    "    \n",
    "    model_kwargs = { \n",
    "        \"max_tokens\": 100000,\n",
    "        \"temperature\": 0,\n",
    "        \"top_k\": 250,\n",
    "        \"top_p\": 1,\n",
    "        \"stop_sequences\": [\"\\n\\nHuman\"],\n",
    "        \n",
    "    }\n",
    "    \n",
    " \n",
    "    \n",
    "    model = BedrockChat(\n",
    "        client=bedrock_runtime,\n",
    "        model_id=model_id,\n",
    "        model_kwargs=model_kwargs,\n",
    "    )\n",
    "\n",
    "    return model\n",
    "model = load_model()"
   ]
  },
  {
   "cell_type": "code",
   "execution_count": null,
   "id": "e9368634-54d2-48be-8c47-990cda52a0e8",
   "metadata": {},
   "outputs": [],
   "source": []
  },
  {
   "cell_type": "code",
   "execution_count": 26,
   "id": "c2a3dfda-cb4b-44a4-afa6-2ea4738d6bab",
   "metadata": {
    "tags": []
   },
   "outputs": [],
   "source": [
    "from langchain_core.output_parsers import StrOutputParser\n",
    "from langchain_core.prompts import ChatPromptTemplate\n",
    "from langchain.chains import RetrievalQA\n",
    "\n",
    "def create_RetrievalQA_chain(query,model,store,prompt,store_type,no_of_doc_per_batch):\n",
    "    print(\"Connecting to bedrock\")\n",
    "    if store_type == \"Vector store\":\n",
    "        retriever = store.as_retriever(\n",
    "            search_type=\"mmr\", search_kwargs={\"k\": 30,\"include_metadata\": True}\n",
    "        )\n",
    "    elif store_type == \"bm25\":\n",
    "        retriever  = store\n",
    "        retriever.k = no_of_doc_per_batch\n",
    "        retriever.get_relevant_documents(query)\n",
    "        \n",
    "    chain = RetrievalQA.from_chain_type(\n",
    "        llm=model,\n",
    "        chain_type=\"stuff\",\n",
    "        retriever=retriever,\n",
    "        return_source_documents=False,\n",
    "        chain_type_kwargs={\"prompt\": prompt, \n",
    "                          }\n",
    "    )\n",
    "    \n",
    "    result = chain.invoke({\"query\": query,\n",
    "                                           \n",
    "                          })\n",
    " \n",
    "    return result\n"
   ]
  },
  {
   "cell_type": "code",
   "execution_count": 27,
   "id": "d3ef9d60-4642-40f2-8ca9-17c2d4370db9",
   "metadata": {
    "tags": []
   },
   "outputs": [],
   "source": [
    "from langchain.retrievers import BM25Retriever\n",
    "def generate_thread_sql(collection_id,cve_result_filter):\n",
    "    collection_ids = collection_id\n",
    "    params = []\n",
    "    collection_ids_tuple = tuple(collection_ids)\n",
    "    params.append(collection_ids_tuple)\n",
    "    \n",
    "    \n",
    "    prefinal_sql = f\"\"\"\n",
    "       SELECT   * \n",
    "                 FROM \n",
    "                     langchain_pg_embedding lpe \n",
    "                 WHERE \n",
    "                     lpe.collection_id in (\n",
    "                         SELECT \n",
    "                             lpc.uuid \n",
    "                         FROM\n",
    "                             langchain_pg_collection lpc\n",
    "                        WHERE\n",
    "                             lpc.name in  %s\n",
    "                     )\n",
    "    \"\"\"\n",
    "\n",
    "    for key, value in cve_result_filter.items():\n",
    "        \n",
    "        if len(value) == 0:\n",
    "            pass\n",
    "        else:\n",
    "                prefinal_sql = prefinal_sql.strip() + f\"\"\"\n",
    "                             AND\n",
    "                             lpe.cmetadata ->> '{key}' in %s\n",
    "                            \"\"\"\n",
    "                params.append(tuple(value))\n",
    "                \n",
    "    prefinal_sql = prefinal_sql.strip() + \"\"\"\n",
    "    order by (lpe.cmetadata->>'_time')::timestamptz desc\n",
    "    \"\"\"\n",
    "    \n",
    "    \n",
    "    sql = f\"\"\"\n",
    "            SELECT document FROM (\n",
    "            {prefinal_sql.strip()}\n",
    "            ) as subquery  \n",
    "    \"\"\"\n",
    "    params = tuple(params)\n",
    "\n",
    "    return sql,params\n",
    "\n",
    "\n",
    "\n",
    "def get_documents_for_thread(collection_id, filter_dict,conn_for_vector_db):\n",
    "    \n",
    "    \n",
    "    sql,params = generate_thread_sql(collection_id,filter_dict,)\n",
    "\n",
    "    with conn_for_vector_db.cursor() as cur:\n",
    "        \n",
    "        cur.execute(sql, params)\n",
    "\n",
    "        rows = cur.fetchall()\n",
    "        bm25_documents = [row[0] for row in rows] \n",
    "        conn_for_vector_db.commit()\n",
    "        conn_for_vector_db.close()\n",
    "\n",
    "    bm25_store = BM25Retriever.from_texts(bm25_documents)\n",
    "    \n",
    "    return bm25_store\n"
   ]
  },
  {
   "cell_type": "code",
   "execution_count": 28,
   "id": "f31407e8-8fb7-4d89-8734-8bb6b94a2982",
   "metadata": {
    "tags": []
   },
   "outputs": [],
   "source": [
    "#collection names created for the final results\n",
    "collection_id = [\"TDR_Analysis\"]"
   ]
  },
  {
   "cell_type": "code",
   "execution_count": 29,
   "id": "68ba0e5f-85bd-421b-8d5a-35d3c22ed6fc",
   "metadata": {
    "tags": []
   },
   "outputs": [],
   "source": [
    "onprem_cloud_filter = {\n",
    "  'host': []\n",
    "}"
   ]
  },
  {
   "cell_type": "code",
   "execution_count": 30,
   "id": "3e9d967f-7ad8-4933-b944-7237a0bf1427",
   "metadata": {
    "tags": []
   },
   "outputs": [],
   "source": [
    "import boto3\n",
    "import json\n",
    "import logging\n",
    "import psycopg2\n",
    "import psycopg2.extras as psycopg2_extras\n",
    "from psycopg2 import pool\n",
    "from pprint import pprint\n",
    "conn_for_vector_db = psycopg2.connect(\n",
    "    dbname=\"postgres\",\n",
    "    user=\"postgres\", \n",
    "    password= \"password1\", \n",
    "    host=\"database-2-instance-1.cnzoukwx6fwf.us-east-1.rds.amazonaws.com\"\n",
    ")"
   ]
  },
  {
   "cell_type": "code",
   "execution_count": 31,
   "id": "ad0c426c-c05d-40a4-b773-f2857f0100b8",
   "metadata": {
    "tags": []
   },
   "outputs": [],
   "source": [
    "thread_bm25_store = get_documents_for_thread(collection_id, onprem_cloud_filter,conn_for_vector_db)"
   ]
  },
  {
   "cell_type": "code",
   "execution_count": 32,
   "id": "910d9010-43d1-4fcc-a5fa-4c17255b7f26",
   "metadata": {
    "tags": []
   },
   "outputs": [],
   "source": [
    "# memory = ConversationBufferMemory(return_messages=True)"
   ]
  },
  {
   "cell_type": "code",
   "execution_count": 33,
   "id": "0f24b011-941a-47a7-b61d-b0ba17fa8348",
   "metadata": {
    "tags": []
   },
   "outputs": [],
   "source": [
    "# memory.load_memory_variables({})"
   ]
  },
  {
   "cell_type": "code",
   "execution_count": 34,
   "id": "e26b5ddb-2f9e-47ad-9130-64b6617c6222",
   "metadata": {
    "tags": []
   },
   "outputs": [],
   "source": [
    "# question_one = \"Analyze security threat analysis reports for the hosts and provide a comprehensive report of the threat that takes into account individual host based reports.\""
   ]
  },
  {
   "cell_type": "code",
   "execution_count": 35,
   "id": "e2fd505e-f1d4-42f0-9742-d15be15c897c",
   "metadata": {
    "tags": []
   },
   "outputs": [],
   "source": [
    "# output_one = routing_agent(question_one)\n",
    "# output_one"
   ]
  },
  {
   "cell_type": "code",
   "execution_count": 34,
   "id": "81badc85-2ff2-4a71-b650-423924977452",
   "metadata": {
    "tags": []
   },
   "outputs": [
    {
     "data": {
      "text/plain": [
       "{'history': []}"
      ]
     },
     "execution_count": 34,
     "metadata": {},
     "output_type": "execute_result"
    }
   ],
   "source": [
    "memory.load_memory_variables({})"
   ]
  },
  {
   "cell_type": "code",
   "execution_count": 36,
   "id": "3d96d6b7-11e4-4fde-b477-8bdc63c243c8",
   "metadata": {
    "tags": []
   },
   "outputs": [],
   "source": [
    "question_two = 'what is the most likly vulnerablity source?'"
   ]
  },
  {
   "cell_type": "code",
   "execution_count": 37,
   "id": "f14662b0-9f3f-4804-842c-cb3dab5fe887",
   "metadata": {},
   "outputs": [
    {
     "name": "stdout",
     "output_type": "stream",
     "text": [
      "[{'label': 'LABEL_1', 'score': 0.9998812675476074}]\n"
     ]
    },
    {
     "data": {
      "text/plain": [
       "{'query': 'what is the most likly vulnerablity source?',\n",
       " 'result': 'The most likely vulnerability source is Infra, with 1,526 occurrences in the database.'}"
      ]
     },
     "execution_count": 37,
     "metadata": {},
     "output_type": "execute_result"
    }
   ],
   "source": [
    "output_two = routing_agent(question_two)\n",
    "output_two"
   ]
  },
  {
   "cell_type": "code",
   "execution_count": 38,
   "id": "f2a41730-079b-4a14-9340-7db5ff61688c",
   "metadata": {},
   "outputs": [],
   "source": [
    "question_three = \"What are the risk levels of those vulnerabilities?\" "
   ]
  },
  {
   "cell_type": "code",
   "execution_count": 39,
   "id": "69d56084-1a09-4e81-852c-8391f19e772b",
   "metadata": {
    "tags": []
   },
   "outputs": [
    {
     "name": "stdout",
     "output_type": "stream",
     "text": [
      "[{'label': 'LABEL_1', 'score': 0.9987605810165405}]\n"
     ]
    },
    {
     "data": {
      "text/plain": [
       "{'query': 'What are the risk levels of those vulnerabilities?',\n",
       " 'result': 'The vulnerabilities sourced from Infra have varying risk levels, with Very High being the most common (588 occurrences), followed closely by High (576 occurrences). There are also 184 Critical and 178 Emergency level vulnerabilities.'}"
      ]
     },
     "execution_count": 39,
     "metadata": {},
     "output_type": "execute_result"
    }
   ],
   "source": [
    "output_three = routing_agent(question_three)\n",
    "output_three"
   ]
  },
  {
   "cell_type": "code",
   "execution_count": 40,
   "id": "93960b96-be48-4241-99a3-80961d2fc42b",
   "metadata": {
    "tags": []
   },
   "outputs": [],
   "source": [
    "question_four = \"Who owns the assets with the risk level of Emergency?\" "
   ]
  },
  {
   "cell_type": "code",
   "execution_count": 39,
   "id": "5eab43d0-101a-43b7-b30e-6494ab338e34",
   "metadata": {
    "tags": []
   },
   "outputs": [
    {
     "name": "stdout",
     "output_type": "stream",
     "text": [
      "[{'label': 'LABEL_1', 'score': 0.9999977350234985}]\n"
     ]
    },
    {
     "data": {
      "text/plain": [
       "{'query': 'Who owns the assets with the risk level of Emergency?',\n",
       " 'result': 'The assets with a risk level of Emergency are owned by 82 different individuals, including Brittney Fisher, Michael Ashley, Amy Brooks, Donna Dunlap, Aaron Stevens, and many others. The full list of asset owners includes 82 unique names.'}"
      ]
     },
     "execution_count": 39,
     "metadata": {},
     "output_type": "execute_result"
    }
   ],
   "source": [
    "output_four = routing_agent(question_four)\n",
    "output_four"
   ]
  },
  {
   "cell_type": "code",
   "execution_count": 42,
   "id": "a923f15b-f449-42a3-85e5-01bec637f04a",
   "metadata": {
    "tags": []
   },
   "outputs": [],
   "source": [
    "question_five = \"Who are the other owners\" "
   ]
  },
  {
   "cell_type": "code",
   "execution_count": 9,
   "id": "eb7a2819-4e66-4200-af40-32e202e46454",
   "metadata": {
    "tags": []
   },
   "outputs": [],
   "source": [
    "output_five = routing_agent(question_five)\n",
    "output_five"
   ]
  },
  {
   "cell_type": "code",
   "execution_count": 13,
   "id": "6d5da55d-418b-4513-9957-4bd29d06eef3",
   "metadata": {
    "tags": []
   },
   "outputs": [],
   "source": [
    "memory.load_memory_variables({})"
   ]
  },
  {
   "cell_type": "code",
   "execution_count": 40,
   "id": "1c85a2ce-ccda-4cb6-9cab-ffcafc6273fd",
   "metadata": {},
   "outputs": [],
   "source": [
    "question_one = \"Analyze security threat analysis reports for the hosts and provide a comprehensive report of the threat that takes into account individual host based reports.\""
   ]
  },
  {
   "cell_type": "code",
   "execution_count": 41,
   "id": "4fe9f3e7-d079-4d46-a5cf-3816a2fe7aaf",
   "metadata": {
    "tags": []
   },
   "outputs": [
    {
     "name": "stdout",
     "output_type": "stream",
     "text": [
      "[{'label': 'LABEL_0', 'score': 0.9999979734420776}]\n",
      "Connecting to bedrock\n"
     ]
    },
    {
     "data": {
      "text/plain": [
       "{'query': 'Analyze security threat analysis reports for the hosts and provide a comprehensive report of the threat that takes into account individual host based reports.',\n",
       " 'result': 'Based on the analysis of security threat reports for multiple hosts, I can provide a comprehensive overview of the potential threat scenario:\\n\\n1. Threat Summary:\\nA sophisticated cyber attack appears to have targeted multiple hosts within the organization\\'s network. The attack demonstrates characteristics of an Advanced Persistent Threat (APT), involving multiple stages of compromise, lateral movement, and attempts to establish persistence.\\n\\n2. Affected Systems:\\n- wstp-srpa_013 (172.16.10.8)\\n- wstp-srpa015 (172.16.10.12)\\n- wstp-srpa017 (no malicious activity detected, but included for completeness)\\n\\n3. Attack Timeline:\\nMay 22, 2024:\\n14:12:05 - Initial compromise of wstp-srpa_013\\n15:21:28 - Attempted expansion on wstp-srpa_013\\n15:23:07 - Malware delivery to wstp-srpa_013\\n15:27:03 - Malware execution on wstp-srpa_013\\n16:19:26 - Potential compromise of wstp-srpa015\\n16:25:41 - Credential access attempts on wstp-srpa015\\n16:45:30 - VPN credential exposure on wstp-srpa015\\n\\n4. Attack Vectors and Techniques:\\n- Initial Access: Likely through phishing or exploitation of a vulnerability, leading to connections to malicious websites.\\n- Command and Control (C2): Use of multiple C2 servers, including Russian domains and direct IP connections.\\n- Lateral Movement: Potential use of compromised VPN credentials to move between systems.\\n- Persistence: Execution of suspicious files from removable media and use of PowerShell scripts.\\n- Defense Evasion: Blending malicious activities with normal system operations, use of legitimate-looking domains.\\n- Credential Access: Multiple attempts to access and read credential information.\\n- Discovery: WMI queries and system information gathering.\\n\\n5. Malware and Tools:\\n- \"SecureChat.iso\" - Potentially malicious ISO file downloaded to wstp-srpa015\\n- \"FINSECMO.EXE\" - Suspicious executable run from CD-ROM on wstp-srpa_013\\n\\n6. Impacted Users:\\n- alice.harding (wstp-srpa_013)\\n- araceli.mendez (wstp-srpa015)\\n- bob.salazar (VPN credentials exposed)\\n\\n7. Potential Business Impact:\\n- Unauthorized access to sensitive information\\n- Potential data exfiltration\\n- Compromise of VPN credentials, risking broader network access\\n- Possible disruption of normal business operations\\n\\n8. Recommendations:\\na) Immediate Actions:\\n   - Isolate affected systems from the network\\n   - Revoke and reset all exposed credentials, especially VPN access\\n   - Conduct full system scans on all potentially affected hosts\\n   - Implement network segmentation to contain potential spread\\n\\nb) Investigation and Remediation:\\n   - Perform in-depth forensic analysis of affected systems\\n   - Analyze the contents of the suspicious ISO file and FINSECMO.EXE\\n   - Review all recent activities of impacted users\\n   - Investigate potential data exfiltration, focusing on connections to suspicious IP addresses\\n\\nc) Long-term Security Enhancements:\\n   - Implement stronger access controls and multi-factor authentication\\n   - Enhance monitoring and alerting for suspicious activities\\n   - Conduct regular security awareness training for all employees\\n   - Review and improve policies regarding script execution and handling of sensitive credentials\\n   - Implement more robust endpoint detection and response (EDR) solutions\\n\\n9. Attribution:\\nWhile definitive attribution is challenging, the use of Russian domains and the sophisticated nature of the attack suggest this could be the work of an APT group. Further investigation and threat intelligence analysis would be required for more accurate attribution.\\n\\n10. Conclusion:\\nThis multi-stage attack demonstrates a significant threat to the organization\\'s cybersecurity. The attacker\\'s ability to compromise multiple systems, access credentials, and potentially expose VPN access indicates a serious breach that requires immediate attention and a comprehensive response. The incident highlights the need for enhanced security measures, particularly in the areas of access control, system monitoring, and employee awareness.'}"
      ]
     },
     "execution_count": 41,
     "metadata": {},
     "output_type": "execute_result"
    }
   ],
   "source": [
    "output_one = routing_agent(question_one)\n",
    "output_one"
   ]
  },
  {
   "cell_type": "code",
   "execution_count": 15,
   "id": "f90b6f00-94d8-4812-82d3-e2a5493256bc",
   "metadata": {
    "tags": []
   },
   "outputs": [
    {
     "ename": "NameError",
     "evalue": "name 'memory' is not defined",
     "output_type": "error",
     "traceback": [
      "\u001b[0;31m---------------------------------------------------------------------------\u001b[0m",
      "\u001b[0;31mNameError\u001b[0m                                 Traceback (most recent call last)",
      "Cell \u001b[0;32mIn[15], line 1\u001b[0m\n\u001b[0;32m----> 1\u001b[0m \u001b[43mmemory\u001b[49m\u001b[38;5;241m.\u001b[39mload_memory_variables({})\n",
      "\u001b[0;31mNameError\u001b[0m: name 'memory' is not defined"
     ]
    }
   ],
   "source": [
    "memory.load_memory_variables({})"
   ]
  },
  {
   "cell_type": "code",
   "execution_count": null,
   "id": "175ffac3-b693-442a-8541-6f4d676b8dba",
   "metadata": {},
   "outputs": [],
   "source": []
  }
 ],
 "metadata": {
  "availableInstances": [
   {
    "_defaultOrder": 0,
    "_isFastLaunch": true,
    "category": "General purpose",
    "gpuNum": 0,
    "hideHardwareSpecs": false,
    "memoryGiB": 4,
    "name": "ml.t3.medium",
    "vcpuNum": 2
   },
   {
    "_defaultOrder": 1,
    "_isFastLaunch": false,
    "category": "General purpose",
    "gpuNum": 0,
    "hideHardwareSpecs": false,
    "memoryGiB": 8,
    "name": "ml.t3.large",
    "vcpuNum": 2
   },
   {
    "_defaultOrder": 2,
    "_isFastLaunch": false,
    "category": "General purpose",
    "gpuNum": 0,
    "hideHardwareSpecs": false,
    "memoryGiB": 16,
    "name": "ml.t3.xlarge",
    "vcpuNum": 4
   },
   {
    "_defaultOrder": 3,
    "_isFastLaunch": false,
    "category": "General purpose",
    "gpuNum": 0,
    "hideHardwareSpecs": false,
    "memoryGiB": 32,
    "name": "ml.t3.2xlarge",
    "vcpuNum": 8
   },
   {
    "_defaultOrder": 4,
    "_isFastLaunch": true,
    "category": "General purpose",
    "gpuNum": 0,
    "hideHardwareSpecs": false,
    "memoryGiB": 8,
    "name": "ml.m5.large",
    "vcpuNum": 2
   },
   {
    "_defaultOrder": 5,
    "_isFastLaunch": false,
    "category": "General purpose",
    "gpuNum": 0,
    "hideHardwareSpecs": false,
    "memoryGiB": 16,
    "name": "ml.m5.xlarge",
    "vcpuNum": 4
   },
   {
    "_defaultOrder": 6,
    "_isFastLaunch": false,
    "category": "General purpose",
    "gpuNum": 0,
    "hideHardwareSpecs": false,
    "memoryGiB": 32,
    "name": "ml.m5.2xlarge",
    "vcpuNum": 8
   },
   {
    "_defaultOrder": 7,
    "_isFastLaunch": false,
    "category": "General purpose",
    "gpuNum": 0,
    "hideHardwareSpecs": false,
    "memoryGiB": 64,
    "name": "ml.m5.4xlarge",
    "vcpuNum": 16
   },
   {
    "_defaultOrder": 8,
    "_isFastLaunch": false,
    "category": "General purpose",
    "gpuNum": 0,
    "hideHardwareSpecs": false,
    "memoryGiB": 128,
    "name": "ml.m5.8xlarge",
    "vcpuNum": 32
   },
   {
    "_defaultOrder": 9,
    "_isFastLaunch": false,
    "category": "General purpose",
    "gpuNum": 0,
    "hideHardwareSpecs": false,
    "memoryGiB": 192,
    "name": "ml.m5.12xlarge",
    "vcpuNum": 48
   },
   {
    "_defaultOrder": 10,
    "_isFastLaunch": false,
    "category": "General purpose",
    "gpuNum": 0,
    "hideHardwareSpecs": false,
    "memoryGiB": 256,
    "name": "ml.m5.16xlarge",
    "vcpuNum": 64
   },
   {
    "_defaultOrder": 11,
    "_isFastLaunch": false,
    "category": "General purpose",
    "gpuNum": 0,
    "hideHardwareSpecs": false,
    "memoryGiB": 384,
    "name": "ml.m5.24xlarge",
    "vcpuNum": 96
   },
   {
    "_defaultOrder": 12,
    "_isFastLaunch": false,
    "category": "General purpose",
    "gpuNum": 0,
    "hideHardwareSpecs": false,
    "memoryGiB": 8,
    "name": "ml.m5d.large",
    "vcpuNum": 2
   },
   {
    "_defaultOrder": 13,
    "_isFastLaunch": false,
    "category": "General purpose",
    "gpuNum": 0,
    "hideHardwareSpecs": false,
    "memoryGiB": 16,
    "name": "ml.m5d.xlarge",
    "vcpuNum": 4
   },
   {
    "_defaultOrder": 14,
    "_isFastLaunch": false,
    "category": "General purpose",
    "gpuNum": 0,
    "hideHardwareSpecs": false,
    "memoryGiB": 32,
    "name": "ml.m5d.2xlarge",
    "vcpuNum": 8
   },
   {
    "_defaultOrder": 15,
    "_isFastLaunch": false,
    "category": "General purpose",
    "gpuNum": 0,
    "hideHardwareSpecs": false,
    "memoryGiB": 64,
    "name": "ml.m5d.4xlarge",
    "vcpuNum": 16
   },
   {
    "_defaultOrder": 16,
    "_isFastLaunch": false,
    "category": "General purpose",
    "gpuNum": 0,
    "hideHardwareSpecs": false,
    "memoryGiB": 128,
    "name": "ml.m5d.8xlarge",
    "vcpuNum": 32
   },
   {
    "_defaultOrder": 17,
    "_isFastLaunch": false,
    "category": "General purpose",
    "gpuNum": 0,
    "hideHardwareSpecs": false,
    "memoryGiB": 192,
    "name": "ml.m5d.12xlarge",
    "vcpuNum": 48
   },
   {
    "_defaultOrder": 18,
    "_isFastLaunch": false,
    "category": "General purpose",
    "gpuNum": 0,
    "hideHardwareSpecs": false,
    "memoryGiB": 256,
    "name": "ml.m5d.16xlarge",
    "vcpuNum": 64
   },
   {
    "_defaultOrder": 19,
    "_isFastLaunch": false,
    "category": "General purpose",
    "gpuNum": 0,
    "hideHardwareSpecs": false,
    "memoryGiB": 384,
    "name": "ml.m5d.24xlarge",
    "vcpuNum": 96
   },
   {
    "_defaultOrder": 20,
    "_isFastLaunch": false,
    "category": "General purpose",
    "gpuNum": 0,
    "hideHardwareSpecs": true,
    "memoryGiB": 0,
    "name": "ml.geospatial.interactive",
    "supportedImageNames": [
     "sagemaker-geospatial-v1-0"
    ],
    "vcpuNum": 0
   },
   {
    "_defaultOrder": 21,
    "_isFastLaunch": true,
    "category": "Compute optimized",
    "gpuNum": 0,
    "hideHardwareSpecs": false,
    "memoryGiB": 4,
    "name": "ml.c5.large",
    "vcpuNum": 2
   },
   {
    "_defaultOrder": 22,
    "_isFastLaunch": false,
    "category": "Compute optimized",
    "gpuNum": 0,
    "hideHardwareSpecs": false,
    "memoryGiB": 8,
    "name": "ml.c5.xlarge",
    "vcpuNum": 4
   },
   {
    "_defaultOrder": 23,
    "_isFastLaunch": false,
    "category": "Compute optimized",
    "gpuNum": 0,
    "hideHardwareSpecs": false,
    "memoryGiB": 16,
    "name": "ml.c5.2xlarge",
    "vcpuNum": 8
   },
   {
    "_defaultOrder": 24,
    "_isFastLaunch": false,
    "category": "Compute optimized",
    "gpuNum": 0,
    "hideHardwareSpecs": false,
    "memoryGiB": 32,
    "name": "ml.c5.4xlarge",
    "vcpuNum": 16
   },
   {
    "_defaultOrder": 25,
    "_isFastLaunch": false,
    "category": "Compute optimized",
    "gpuNum": 0,
    "hideHardwareSpecs": false,
    "memoryGiB": 72,
    "name": "ml.c5.9xlarge",
    "vcpuNum": 36
   },
   {
    "_defaultOrder": 26,
    "_isFastLaunch": false,
    "category": "Compute optimized",
    "gpuNum": 0,
    "hideHardwareSpecs": false,
    "memoryGiB": 96,
    "name": "ml.c5.12xlarge",
    "vcpuNum": 48
   },
   {
    "_defaultOrder": 27,
    "_isFastLaunch": false,
    "category": "Compute optimized",
    "gpuNum": 0,
    "hideHardwareSpecs": false,
    "memoryGiB": 144,
    "name": "ml.c5.18xlarge",
    "vcpuNum": 72
   },
   {
    "_defaultOrder": 28,
    "_isFastLaunch": false,
    "category": "Compute optimized",
    "gpuNum": 0,
    "hideHardwareSpecs": false,
    "memoryGiB": 192,
    "name": "ml.c5.24xlarge",
    "vcpuNum": 96
   },
   {
    "_defaultOrder": 29,
    "_isFastLaunch": true,
    "category": "Accelerated computing",
    "gpuNum": 1,
    "hideHardwareSpecs": false,
    "memoryGiB": 16,
    "name": "ml.g4dn.xlarge",
    "vcpuNum": 4
   },
   {
    "_defaultOrder": 30,
    "_isFastLaunch": false,
    "category": "Accelerated computing",
    "gpuNum": 1,
    "hideHardwareSpecs": false,
    "memoryGiB": 32,
    "name": "ml.g4dn.2xlarge",
    "vcpuNum": 8
   },
   {
    "_defaultOrder": 31,
    "_isFastLaunch": false,
    "category": "Accelerated computing",
    "gpuNum": 1,
    "hideHardwareSpecs": false,
    "memoryGiB": 64,
    "name": "ml.g4dn.4xlarge",
    "vcpuNum": 16
   },
   {
    "_defaultOrder": 32,
    "_isFastLaunch": false,
    "category": "Accelerated computing",
    "gpuNum": 1,
    "hideHardwareSpecs": false,
    "memoryGiB": 128,
    "name": "ml.g4dn.8xlarge",
    "vcpuNum": 32
   },
   {
    "_defaultOrder": 33,
    "_isFastLaunch": false,
    "category": "Accelerated computing",
    "gpuNum": 4,
    "hideHardwareSpecs": false,
    "memoryGiB": 192,
    "name": "ml.g4dn.12xlarge",
    "vcpuNum": 48
   },
   {
    "_defaultOrder": 34,
    "_isFastLaunch": false,
    "category": "Accelerated computing",
    "gpuNum": 1,
    "hideHardwareSpecs": false,
    "memoryGiB": 256,
    "name": "ml.g4dn.16xlarge",
    "vcpuNum": 64
   },
   {
    "_defaultOrder": 35,
    "_isFastLaunch": false,
    "category": "Accelerated computing",
    "gpuNum": 1,
    "hideHardwareSpecs": false,
    "memoryGiB": 61,
    "name": "ml.p3.2xlarge",
    "vcpuNum": 8
   },
   {
    "_defaultOrder": 36,
    "_isFastLaunch": false,
    "category": "Accelerated computing",
    "gpuNum": 4,
    "hideHardwareSpecs": false,
    "memoryGiB": 244,
    "name": "ml.p3.8xlarge",
    "vcpuNum": 32
   },
   {
    "_defaultOrder": 37,
    "_isFastLaunch": false,
    "category": "Accelerated computing",
    "gpuNum": 8,
    "hideHardwareSpecs": false,
    "memoryGiB": 488,
    "name": "ml.p3.16xlarge",
    "vcpuNum": 64
   },
   {
    "_defaultOrder": 38,
    "_isFastLaunch": false,
    "category": "Accelerated computing",
    "gpuNum": 8,
    "hideHardwareSpecs": false,
    "memoryGiB": 768,
    "name": "ml.p3dn.24xlarge",
    "vcpuNum": 96
   },
   {
    "_defaultOrder": 39,
    "_isFastLaunch": false,
    "category": "Memory Optimized",
    "gpuNum": 0,
    "hideHardwareSpecs": false,
    "memoryGiB": 16,
    "name": "ml.r5.large",
    "vcpuNum": 2
   },
   {
    "_defaultOrder": 40,
    "_isFastLaunch": false,
    "category": "Memory Optimized",
    "gpuNum": 0,
    "hideHardwareSpecs": false,
    "memoryGiB": 32,
    "name": "ml.r5.xlarge",
    "vcpuNum": 4
   },
   {
    "_defaultOrder": 41,
    "_isFastLaunch": false,
    "category": "Memory Optimized",
    "gpuNum": 0,
    "hideHardwareSpecs": false,
    "memoryGiB": 64,
    "name": "ml.r5.2xlarge",
    "vcpuNum": 8
   },
   {
    "_defaultOrder": 42,
    "_isFastLaunch": false,
    "category": "Memory Optimized",
    "gpuNum": 0,
    "hideHardwareSpecs": false,
    "memoryGiB": 128,
    "name": "ml.r5.4xlarge",
    "vcpuNum": 16
   },
   {
    "_defaultOrder": 43,
    "_isFastLaunch": false,
    "category": "Memory Optimized",
    "gpuNum": 0,
    "hideHardwareSpecs": false,
    "memoryGiB": 256,
    "name": "ml.r5.8xlarge",
    "vcpuNum": 32
   },
   {
    "_defaultOrder": 44,
    "_isFastLaunch": false,
    "category": "Memory Optimized",
    "gpuNum": 0,
    "hideHardwareSpecs": false,
    "memoryGiB": 384,
    "name": "ml.r5.12xlarge",
    "vcpuNum": 48
   },
   {
    "_defaultOrder": 45,
    "_isFastLaunch": false,
    "category": "Memory Optimized",
    "gpuNum": 0,
    "hideHardwareSpecs": false,
    "memoryGiB": 512,
    "name": "ml.r5.16xlarge",
    "vcpuNum": 64
   },
   {
    "_defaultOrder": 46,
    "_isFastLaunch": false,
    "category": "Memory Optimized",
    "gpuNum": 0,
    "hideHardwareSpecs": false,
    "memoryGiB": 768,
    "name": "ml.r5.24xlarge",
    "vcpuNum": 96
   },
   {
    "_defaultOrder": 47,
    "_isFastLaunch": false,
    "category": "Accelerated computing",
    "gpuNum": 1,
    "hideHardwareSpecs": false,
    "memoryGiB": 16,
    "name": "ml.g5.xlarge",
    "vcpuNum": 4
   },
   {
    "_defaultOrder": 48,
    "_isFastLaunch": false,
    "category": "Accelerated computing",
    "gpuNum": 1,
    "hideHardwareSpecs": false,
    "memoryGiB": 32,
    "name": "ml.g5.2xlarge",
    "vcpuNum": 8
   },
   {
    "_defaultOrder": 49,
    "_isFastLaunch": false,
    "category": "Accelerated computing",
    "gpuNum": 1,
    "hideHardwareSpecs": false,
    "memoryGiB": 64,
    "name": "ml.g5.4xlarge",
    "vcpuNum": 16
   },
   {
    "_defaultOrder": 50,
    "_isFastLaunch": false,
    "category": "Accelerated computing",
    "gpuNum": 1,
    "hideHardwareSpecs": false,
    "memoryGiB": 128,
    "name": "ml.g5.8xlarge",
    "vcpuNum": 32
   },
   {
    "_defaultOrder": 51,
    "_isFastLaunch": false,
    "category": "Accelerated computing",
    "gpuNum": 1,
    "hideHardwareSpecs": false,
    "memoryGiB": 256,
    "name": "ml.g5.16xlarge",
    "vcpuNum": 64
   },
   {
    "_defaultOrder": 52,
    "_isFastLaunch": false,
    "category": "Accelerated computing",
    "gpuNum": 4,
    "hideHardwareSpecs": false,
    "memoryGiB": 192,
    "name": "ml.g5.12xlarge",
    "vcpuNum": 48
   },
   {
    "_defaultOrder": 53,
    "_isFastLaunch": false,
    "category": "Accelerated computing",
    "gpuNum": 4,
    "hideHardwareSpecs": false,
    "memoryGiB": 384,
    "name": "ml.g5.24xlarge",
    "vcpuNum": 96
   },
   {
    "_defaultOrder": 54,
    "_isFastLaunch": false,
    "category": "Accelerated computing",
    "gpuNum": 8,
    "hideHardwareSpecs": false,
    "memoryGiB": 768,
    "name": "ml.g5.48xlarge",
    "vcpuNum": 192
   },
   {
    "_defaultOrder": 55,
    "_isFastLaunch": false,
    "category": "Accelerated computing",
    "gpuNum": 8,
    "hideHardwareSpecs": false,
    "memoryGiB": 1152,
    "name": "ml.p4d.24xlarge",
    "vcpuNum": 96
   },
   {
    "_defaultOrder": 56,
    "_isFastLaunch": false,
    "category": "Accelerated computing",
    "gpuNum": 8,
    "hideHardwareSpecs": false,
    "memoryGiB": 1152,
    "name": "ml.p4de.24xlarge",
    "vcpuNum": 96
   },
   {
    "_defaultOrder": 57,
    "_isFastLaunch": false,
    "category": "Accelerated computing",
    "gpuNum": 0,
    "hideHardwareSpecs": false,
    "memoryGiB": 32,
    "name": "ml.trn1.2xlarge",
    "vcpuNum": 8
   },
   {
    "_defaultOrder": 58,
    "_isFastLaunch": false,
    "category": "Accelerated computing",
    "gpuNum": 0,
    "hideHardwareSpecs": false,
    "memoryGiB": 512,
    "name": "ml.trn1.32xlarge",
    "vcpuNum": 128
   },
   {
    "_defaultOrder": 59,
    "_isFastLaunch": false,
    "category": "Accelerated computing",
    "gpuNum": 0,
    "hideHardwareSpecs": false,
    "memoryGiB": 512,
    "name": "ml.trn1n.32xlarge",
    "vcpuNum": 128
   }
  ],
  "instance_type": "ml.g4dn.xlarge",
  "kernelspec": {
   "display_name": "Python 3 (PyTorch 2.0.0 Python 3.10 GPU Optimized)",
   "language": "python",
   "name": "python3__SAGEMAKER_INTERNAL__arn:aws:sagemaker:us-east-1:081325390199:image/pytorch-2.0.0-gpu-py310"
  },
  "language_info": {
   "codemirror_mode": {
    "name": "ipython",
    "version": 3
   },
   "file_extension": ".py",
   "mimetype": "text/x-python",
   "name": "python",
   "nbconvert_exporter": "python",
   "pygments_lexer": "ipython3",
   "version": "3.10.8"
  }
 },
 "nbformat": 4,
 "nbformat_minor": 5
}
